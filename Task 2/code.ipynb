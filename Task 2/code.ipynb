{
 "cells": [
  {
   "cell_type": "code",
   "execution_count": 1,
   "id": "f19eb756",
   "metadata": {},
   "outputs": [
    {
     "name": "stderr",
     "output_type": "stream",
     "text": [
      "C:\\Users\\RATNESH\\AppData\\Roaming\\Python\\Python39\\site-packages\\scipy\\__init__.py:146: UserWarning: A NumPy version >=1.16.5 and <1.23.0 is required for this version of SciPy (detected version 1.26.1\n",
      "  warnings.warn(f\"A NumPy version >={np_minversion} and <{np_maxversion}\"\n"
     ]
    }
   ],
   "source": [
    "import pandas as pd \n",
    "import numpy as np \n",
    "import pandas as pd\n",
    "import numpy as np\n",
    "import matplotlib.pyplot as plt\n",
    "import seaborn as sns\n",
    "import matplotlib.pyplot as mpl\n",
    "\n",
    "import warnings\n",
    "warnings.filterwarnings(\"ignore\")"
   ]
  },
  {
   "cell_type": "code",
   "execution_count": 2,
   "id": "9209d81b",
   "metadata": {},
   "outputs": [],
   "source": [
    "df = pd.read_csv('IMDb Movies India.csv',encoding='latin-1')"
   ]
  },
  {
   "cell_type": "code",
   "execution_count": 3,
   "id": "913627ed",
   "metadata": {},
   "outputs": [
    {
     "data": {
      "text/html": [
       "<div>\n",
       "<style scoped>\n",
       "    .dataframe tbody tr th:only-of-type {\n",
       "        vertical-align: middle;\n",
       "    }\n",
       "\n",
       "    .dataframe tbody tr th {\n",
       "        vertical-align: top;\n",
       "    }\n",
       "\n",
       "    .dataframe thead th {\n",
       "        text-align: right;\n",
       "    }\n",
       "</style>\n",
       "<table border=\"1\" class=\"dataframe\">\n",
       "  <thead>\n",
       "    <tr style=\"text-align: right;\">\n",
       "      <th></th>\n",
       "      <th>Name</th>\n",
       "      <th>Year</th>\n",
       "      <th>Duration</th>\n",
       "      <th>Genre</th>\n",
       "      <th>Rating</th>\n",
       "      <th>Votes</th>\n",
       "      <th>Director</th>\n",
       "      <th>Actor 1</th>\n",
       "      <th>Actor 2</th>\n",
       "      <th>Actor 3</th>\n",
       "    </tr>\n",
       "  </thead>\n",
       "  <tbody>\n",
       "    <tr>\n",
       "      <th>0</th>\n",
       "      <td></td>\n",
       "      <td>NaN</td>\n",
       "      <td>NaN</td>\n",
       "      <td>Drama</td>\n",
       "      <td>NaN</td>\n",
       "      <td>NaN</td>\n",
       "      <td>J.S. Randhawa</td>\n",
       "      <td>Manmauji</td>\n",
       "      <td>Birbal</td>\n",
       "      <td>Rajendra Bhatia</td>\n",
       "    </tr>\n",
       "    <tr>\n",
       "      <th>1</th>\n",
       "      <td>#Gadhvi (He thought he was Gandhi)</td>\n",
       "      <td>(2019)</td>\n",
       "      <td>109 min</td>\n",
       "      <td>Drama</td>\n",
       "      <td>7.0</td>\n",
       "      <td>8</td>\n",
       "      <td>Gaurav Bakshi</td>\n",
       "      <td>Rasika Dugal</td>\n",
       "      <td>Vivek Ghamande</td>\n",
       "      <td>Arvind Jangid</td>\n",
       "    </tr>\n",
       "    <tr>\n",
       "      <th>2</th>\n",
       "      <td>#Homecoming</td>\n",
       "      <td>(2021)</td>\n",
       "      <td>90 min</td>\n",
       "      <td>Drama, Musical</td>\n",
       "      <td>NaN</td>\n",
       "      <td>NaN</td>\n",
       "      <td>Soumyajit Majumdar</td>\n",
       "      <td>Sayani Gupta</td>\n",
       "      <td>Plabita Borthakur</td>\n",
       "      <td>Roy Angana</td>\n",
       "    </tr>\n",
       "    <tr>\n",
       "      <th>3</th>\n",
       "      <td>#Yaaram</td>\n",
       "      <td>(2019)</td>\n",
       "      <td>110 min</td>\n",
       "      <td>Comedy, Romance</td>\n",
       "      <td>4.4</td>\n",
       "      <td>35</td>\n",
       "      <td>Ovais Khan</td>\n",
       "      <td>Prateik</td>\n",
       "      <td>Ishita Raj</td>\n",
       "      <td>Siddhant Kapoor</td>\n",
       "    </tr>\n",
       "    <tr>\n",
       "      <th>4</th>\n",
       "      <td>...And Once Again</td>\n",
       "      <td>(2010)</td>\n",
       "      <td>105 min</td>\n",
       "      <td>Drama</td>\n",
       "      <td>NaN</td>\n",
       "      <td>NaN</td>\n",
       "      <td>Amol Palekar</td>\n",
       "      <td>Rajat Kapoor</td>\n",
       "      <td>Rituparna Sengupta</td>\n",
       "      <td>Antara Mali</td>\n",
       "    </tr>\n",
       "  </tbody>\n",
       "</table>\n",
       "</div>"
      ],
      "text/plain": [
       "                                 Name    Year Duration            Genre  \\\n",
       "0                                         NaN      NaN            Drama   \n",
       "1  #Gadhvi (He thought he was Gandhi)  (2019)  109 min            Drama   \n",
       "2                         #Homecoming  (2021)   90 min   Drama, Musical   \n",
       "3                             #Yaaram  (2019)  110 min  Comedy, Romance   \n",
       "4                   ...And Once Again  (2010)  105 min            Drama   \n",
       "\n",
       "   Rating Votes            Director       Actor 1             Actor 2  \\\n",
       "0     NaN   NaN       J.S. Randhawa      Manmauji              Birbal   \n",
       "1     7.0     8       Gaurav Bakshi  Rasika Dugal      Vivek Ghamande   \n",
       "2     NaN   NaN  Soumyajit Majumdar  Sayani Gupta   Plabita Borthakur   \n",
       "3     4.4    35          Ovais Khan       Prateik          Ishita Raj   \n",
       "4     NaN   NaN        Amol Palekar  Rajat Kapoor  Rituparna Sengupta   \n",
       "\n",
       "           Actor 3  \n",
       "0  Rajendra Bhatia  \n",
       "1    Arvind Jangid  \n",
       "2       Roy Angana  \n",
       "3  Siddhant Kapoor  \n",
       "4      Antara Mali  "
      ]
     },
     "execution_count": 3,
     "metadata": {},
     "output_type": "execute_result"
    }
   ],
   "source": [
    "df.head()"
   ]
  },
  {
   "cell_type": "code",
   "execution_count": 4,
   "id": "06bd50ea",
   "metadata": {},
   "outputs": [
    {
     "data": {
      "text/plain": [
       "Name         object\n",
       "Year         object\n",
       "Duration     object\n",
       "Genre        object\n",
       "Rating      float64\n",
       "Votes        object\n",
       "Director     object\n",
       "Actor 1      object\n",
       "Actor 2      object\n",
       "Actor 3      object\n",
       "dtype: object"
      ]
     },
     "execution_count": 4,
     "metadata": {},
     "output_type": "execute_result"
    }
   ],
   "source": [
    "df.dtypes"
   ]
  },
  {
   "cell_type": "code",
   "execution_count": 5,
   "id": "bd462fa9",
   "metadata": {},
   "outputs": [
    {
     "data": {
      "text/plain": [
       "Name           0\n",
       "Year         528\n",
       "Duration    8269\n",
       "Genre       1877\n",
       "Rating      7590\n",
       "Votes       7589\n",
       "Director     525\n",
       "Actor 1     1617\n",
       "Actor 2     2384\n",
       "Actor 3     3144\n",
       "dtype: int64"
      ]
     },
     "execution_count": 5,
     "metadata": {},
     "output_type": "execute_result"
    }
   ],
   "source": [
    "df.isnull().sum()"
   ]
  },
  {
   "cell_type": "code",
   "execution_count": 6,
   "id": "66d13e7e",
   "metadata": {},
   "outputs": [
    {
     "data": {
      "text/plain": [
       "array(['Drama', 'Drama, Musical', 'Comedy, Romance',\n",
       "       'Comedy, Drama, Musical', 'Drama, Romance, War', 'Documentary',\n",
       "       'Horror, Mystery, Thriller', 'Action, Crime, Thriller', 'Horror',\n",
       "       'Horror, Romance, Thriller', 'Comedy, Drama, Romance', 'Thriller',\n",
       "       'Comedy, Drama', nan, 'Comedy, Drama, Fantasy',\n",
       "       'Comedy, Drama, Family', 'Crime, Drama, Mystery',\n",
       "       'Horror, Thriller', 'Biography', 'Comedy, Horror', 'Action',\n",
       "       'Drama, Horror, Mystery', 'Comedy', 'Action, Thriller',\n",
       "       'Drama, History', 'Drama, History, Sport',\n",
       "       'Horror, Mystery, Romance', 'Horror, Mystery',\n",
       "       'Drama, Horror, Romance', 'Action, Drama, History',\n",
       "       'Action, Drama, War', 'Comedy, Family',\n",
       "       'Adventure, Horror, Mystery', 'Action, Sci-Fi',\n",
       "       'Crime, Mystery, Thriller', 'War', 'Sport',\n",
       "       'Biography, Drama, History', 'Horror, Romance', 'Crime, Drama',\n",
       "       'Drama, Romance', 'Adventure, Drama', 'Comedy, Mystery, Thriller',\n",
       "       'Action, Crime, Drama', 'Crime, Thriller',\n",
       "       'Horror, Sci-Fi, Thriller', 'Crime, Drama, Thriller',\n",
       "       'Drama, Mystery, Thriller', 'Drama, Sport',\n",
       "       'Drama, Family, Musical', 'Action, Comedy', 'Comedy, Thriller',\n",
       "       'Action, Adventure, Fantasy', 'Drama, Romance, Thriller',\n",
       "       'Action, Drama', 'Drama, Horror, Musical',\n",
       "       'Action, Biography, Drama', 'Adventure, Comedy, Drama', 'Mystery',\n",
       "       'Action, Fantasy, Mystery', 'Adventure, Drama, Mystery',\n",
       "       'Mystery, Thriller', 'Adventure', 'Drama, Musical, Thriller',\n",
       "       'Comedy, Crime, Drama', 'Musical, Romance', 'Documentary, Music',\n",
       "       'Documentary, History, Music', 'Drama, Fantasy, Mystery',\n",
       "       'Drama, Family, Sport', 'Drama, Thriller',\n",
       "       'Documentary, Biography', 'Action, Adventure, Comedy', 'Romance',\n",
       "       'Comedy, Drama, Music', 'Comedy, Horror, Mystery', 'Musical',\n",
       "       'Musical, Romance, Drama', 'Family, Romance',\n",
       "       'Action, Sci-Fi, Thriller', 'Action, Drama, Romance',\n",
       "       'Mystery, Romance', 'Fantasy', 'Family', 'Drama, Family',\n",
       "       'Action, Comedy, Drama', 'Action, Drama, Thriller',\n",
       "       'Drama, Horror, Thriller', 'Drama, Musical, Romance',\n",
       "       'Comedy, Sci-Fi', 'Action, Romance', 'Action, Crime',\n",
       "       'Action, Drama, Crime', 'Drama, Family, Music',\n",
       "       'Action, Mystery, Thriller', 'Action, Drama, Family',\n",
       "       'Action, Mystery', 'Drama, History, Romance',\n",
       "       'Crime, Drama, Music', 'Sci-Fi', 'Animation',\n",
       "       'Crime, Mystery, Romance', 'Action, Adventure, Romance',\n",
       "       'Music, Romance', 'Action, Comedy, Crime',\n",
       "       'Comedy, Family, Fantasy', 'Romance, Drama',\n",
       "       'Drama, Family, Romance', 'Romance, Drama, Family',\n",
       "       'Musical, Romance, Thriller', 'Family, Musical, Romance',\n",
       "       'Action, Drama, Fantasy', 'Family, Drama', 'Crime, Drama, Romance',\n",
       "       'Musical, Drama, Romance', 'Drama, Music, Musical',\n",
       "       'Drama, Mystery', 'Adventure, Comedy, Romance',\n",
       "       'Crime, Drama, Horror', 'Family, Music, Musical',\n",
       "       'Action, Musical, Thriller', 'Action, Romance, Thriller',\n",
       "       'Romance, Thriller', 'Drama, Music', 'Crime, Drama, Musical',\n",
       "       'Action, Crime, Mystery', 'Action, Adventure, Thriller',\n",
       "       'Comedy, Romance, Sci-Fi', 'Crime', 'Action, Drama, Mystery',\n",
       "       'Action, Comedy, Thriller', 'Biography, Drama',\n",
       "       'Action, Comedy, Fantasy', 'Drama, Family, Horror',\n",
       "       'Action, Adventure, Family', 'Documentary, Biography, Musical',\n",
       "       'Action, Drama, Musical', 'Adventure, Thriller', 'Crime, Mystery',\n",
       "       'Drama, Crime', 'Drama, Fantasy, Romance',\n",
       "       'Comedy, Romance, Thriller', 'Musical, Comedy, Drama',\n",
       "       'Biography, History, War', 'Action, Comedy, Romance',\n",
       "       'Drama, History, Musical', 'Action, Crime, Horror',\n",
       "       'Adventure, Fantasy', 'Adventure, Drama, Fantasy',\n",
       "       'Adventure, Fantasy, Romance', 'Action, Adventure, Drama',\n",
       "       'Action, Adventure', 'Comedy, Crime', 'Crime, Drama, Fantasy',\n",
       "       'Adventure, Drama, Romance', 'History', 'Drama, Fantasy, Thriller',\n",
       "       'Musical, Fantasy', 'Documentary, Thriller',\n",
       "       'Mystery, Romance, Musical', 'Family, Drama, Romance',\n",
       "       'History, Musical, Romance', 'Musical, Drama, Crime',\n",
       "       'Adventure, Crime, Romance', 'Musical, Thriller, Mystery',\n",
       "       'Drama, Comedy', 'Biography, Drama, Romance', 'Biography, Music',\n",
       "       'Biography, Drama, Music', 'Drama, Sci-Fi',\n",
       "       'Drama, Family, Thriller', 'Comedy, Musical, Romance',\n",
       "       'Drama, Family, Comedy', 'Action, Thriller, Romance',\n",
       "       'Animation, Adventure', 'Action, Crime, Musical',\n",
       "       'Action, Crime, Romance', 'Animation, Action, Adventure',\n",
       "       'Action, Drama, Sport', 'Comedy, History', 'Documentary, History',\n",
       "       'Drama, Comedy, Family', 'Action, Adventure, Crime',\n",
       "       'Documentary, Biography, Music', 'Comedy, Musical',\n",
       "       'Biography, Crime, Thriller', 'Adventure, Mystery, Thriller',\n",
       "       'Biography, Drama, Sport', 'Action, Comedy, Musical',\n",
       "       'Mystery, Romance, Thriller', 'Action, Adventure, Musical',\n",
       "       'Crime, Musical, Mystery', 'Action, Thriller, Crime',\n",
       "       'Adventure, Comedy, Crime', 'Comedy, Horror, Musical',\n",
       "       'Adventure, Family', 'Family, Thriller', 'Drama, Action, Crime',\n",
       "       'Drama, War', 'Action, Drama, Adventure',\n",
       "       'Adventure, Fantasy, History', 'Fantasy, Musical',\n",
       "       'Comedy, Drama, Thriller', 'Drama, Fantasy', 'Musical, Drama',\n",
       "       'Action, Drama, Horror', 'Biography, Crime, Drama',\n",
       "       'Action, Drama, Music', 'Adventure, Drama, Family',\n",
       "       'Drama, Romance, Musical', 'Comedy, Musical, Drama',\n",
       "       'Adventure, Comedy, Musical', 'Crime, Drama, Family',\n",
       "       'Thriller, Musical, Mystery', 'Documentary, Adventure, Crime',\n",
       "       'Drama, Action, Horror', 'Adventure, Crime, Drama',\n",
       "       'Documentary, Biography, Sport', 'Crime, Fantasy, Mystery',\n",
       "       'Documentary, Biography, Drama', 'Action, Fantasy, Thriller',\n",
       "       'Adventure, Drama, History', 'Animation, Drama, History',\n",
       "       'Comedy, Horror, Thriller', 'Drama, Family, History',\n",
       "       'Animation, History', 'Biography, Drama, Musical', 'Music',\n",
       "       'Family, Comedy', 'Adventure, Mystery', 'Family, Fantasy',\n",
       "       'Documentary, History, News', 'Drama, Mystery, Romance',\n",
       "       'Comedy, Fantasy', 'Action, Crime, Family',\n",
       "       'Drama, Musical, Mystery', 'Action, Thriller, Mystery',\n",
       "       'Drama, Family, Fantasy', 'Action, Family',\n",
       "       'Action, Adventure, Mystery', 'Horror, Fantasy', 'Comedy, Action',\n",
       "       'Adventure, Romance', 'Drama, Adventure',\n",
       "       'Animation, Drama, Romance', 'Comedy, Crime, Romance',\n",
       "       'Adventure, Comedy', 'Comedy, Drama, Sport',\n",
       "       'Documentary, Crime, History', 'Musical, Mystery, Drama',\n",
       "       'Adventure, Drama, Sci-Fi', 'Action, Romance, Western',\n",
       "       'Comedy, Fantasy, Romance', 'Animation, Action, Comedy',\n",
       "       'Drama, Fantasy, Sci-Fi', 'Drama, Horror', 'Family, Drama, Comedy',\n",
       "       'Action, Adventure, History', 'Comedy, Family, Romance',\n",
       "       'Biography, History', 'Animation, Family',\n",
       "       'Drama, Fantasy, History', 'Animation, Adventure, Fantasy',\n",
       "       'Adventure, Comedy, Family', 'Drama, History, War',\n",
       "       'Animation, Drama, Fantasy', 'Action, Musical, Romance',\n",
       "       'Crime, Action, Drama', 'Comedy, Romance, Musical',\n",
       "       'Fantasy, Drama', 'Musical, Action, Crime', 'Documentary, Drama',\n",
       "       'Action, Horror, Thriller', 'Action, Horror, Sci-Fi',\n",
       "       'Mystery, Sci-Fi, Thriller', 'Biography, Family',\n",
       "       'Drama, Action, Comedy', 'Drama, Music, Romance',\n",
       "       'Action, Biography, Crime', 'Adventure, Drama, Musical',\n",
       "       'Family, Music, Romance', 'Fantasy, Mystery, Romance',\n",
       "       'Drama, Crime, Family', 'Drama, Family, Action',\n",
       "       'Romance, Comedy, Drama', 'Animation, Adventure, Comedy',\n",
       "       'Sci-Fi, Thriller', 'Romance, Family, Drama',\n",
       "       'Action, Family, Thriller', 'Adventure, Crime, Thriller',\n",
       "       'Drama, Romance, Sport', 'Comedy, Crime, Mystery',\n",
       "       'Adventure, Comedy, Mystery', 'Action, Fantasy', 'Comedy, Mystery',\n",
       "       'Animation, Adventure, Family', 'Adventure, Drama, Music',\n",
       "       'Biography, Drama, War', 'Documentary, Comedy, Drama',\n",
       "       'Musical, Drama, Family', 'Animation, Comedy, Drama',\n",
       "       'Fantasy, Musical, Drama', 'Adventure, Crime, Mystery',\n",
       "       'Comedy, Drama, Mystery', 'Documentary, News',\n",
       "       'Drama, Musical, Family', 'Action, Romance, Drama',\n",
       "       'Comedy, Crime, Thriller', 'Action, Musical', 'Action, History',\n",
       "       'Action, Comedy, Mystery', 'Drama, Family, Mystery',\n",
       "       'Adventure, Drama, Thriller', 'Documentary, Reality-TV',\n",
       "       'Action, Fantasy, Horror', 'Drama, History, Thriller',\n",
       "       'Documentary, Family', 'Documentary, Biography, Family',\n",
       "       'Comedy, Sport', 'Animation, Comedy, Family',\n",
       "       'Crime, Romance, Thriller', 'Comedy, Musical, Action',\n",
       "       'Action, Mystery, Sci-Fi', 'Comedy, Crime, Musical',\n",
       "       'Drama, Adventure, Action', 'History, Romance', 'Reality-TV',\n",
       "       'Fantasy, History', 'Family, Drama, Thriller',\n",
       "       'Musical, Mystery, Thriller', 'Musical, Comedy, Romance',\n",
       "       'Musical, Action, Drama', 'Action, Musical, War',\n",
       "       'Romance, Comedy', 'Horror, Crime, Thriller',\n",
       "       'Crime, Drama, History', 'Comedy, Drama, Horror',\n",
       "       'Crime, Horror, Thriller', 'Animation, Comedy',\n",
       "       'Romance, Action, Crime', 'Musical, Thriller',\n",
       "       'Action, Romance, Comedy', 'Comedy, Family, Musical',\n",
       "       'Horror, Drama, Mystery', 'Thriller, Mystery, Family',\n",
       "       'Comedy, Drama, Sci-Fi', 'Documentary, Adventure',\n",
       "       'Documentary, Biography, Crime', 'Musical, Action',\n",
       "       'Musical, Mystery', 'Action, Crime, Sci-Fi',\n",
       "       'Action, Horror, Mystery', 'Fantasy, Horror',\n",
       "       'Adventure, Family, Fantasy', 'Fantasy, Sci-Fi', 'Comedy, War',\n",
       "       'Romance, Action, Drama', 'Musical, Family, Romance',\n",
       "       'Romance, Drama, Action', 'Family, Comedy, Drama',\n",
       "       'Comedy, Music, Romance', 'Comedy, Family, Sci-Fi',\n",
       "       'Action, Drama, Western', 'Adventure, Romance, Thriller',\n",
       "       'Biography, Comedy, Drama', 'Action, Mystery, Romance',\n",
       "       'Romance, Sport', 'Crime, Romance', 'Action, Thriller, Western',\n",
       "       'Crime, Musical, Romance', 'Romance, Thriller, Mystery',\n",
       "       'Drama, Crime, Mystery', 'Biography, Drama, Family',\n",
       "       'Action, Family, Mystery', 'Comedy, Mystery, Romance',\n",
       "       'Drama, Thriller, Action', 'Documentary, Short',\n",
       "       'Documentary, Western', 'Musical, Family, Drama',\n",
       "       'Action, Family, Musical', 'Animation, Family, Musical',\n",
       "       'Drama, Fantasy, Horror', 'Action, Adventure, Sci-Fi',\n",
       "       'Drama, Action, Musical', 'Drama, Musical, Sport',\n",
       "       'Action, Comedy, Horror', 'Drama, Fantasy, Musical',\n",
       "       'Action, Fantasy, Musical', 'Animation, Action', 'Comedy, Music',\n",
       "       'Documentary, Drama, Romance', 'Drama, Music, Thriller',\n",
       "       'Fantasy, Musical, Mystery', 'Drama, Fantasy, War', 'Action, War',\n",
       "       'Action, Adventure, War', 'Horror, Musical',\n",
       "       'Fantasy, Mystery, Thriller', 'Adventure, Biography, Drama',\n",
       "       'Family, Romance, Sci-Fi', 'Drama, Romance, Family',\n",
       "       'Animation, Adventure, Drama', 'Family, Romance, Drama',\n",
       "       'Animation, Action, Sci-Fi', 'Adventure, Comedy, Fantasy',\n",
       "       'Comedy, Crime, Family', 'Horror, Musical, Thriller',\n",
       "       'Biography, Drama, Thriller', 'Drama, Western',\n",
       "       'Romance, Sci-Fi, Thriller', 'Comedy, Musical, Family',\n",
       "       'Comedy, Horror, Romance', 'Thriller, Action',\n",
       "       'Fantasy, Thriller, Action', 'Fantasy, Romance',\n",
       "       'Action, Drama, Comedy', 'Family, Fantasy, Romance',\n",
       "       'Comedy, Crime, Horror', 'Horror, Mystery, Sci-Fi',\n",
       "       'Animation, Action, Drama', 'Family, Mystery',\n",
       "       'Adventure, Biography, History', 'Fantasy, Horror, Mystery',\n",
       "       'Family, Musical', 'Drama, Family, Adventure',\n",
       "       'Crime, Horror, Mystery', 'Documentary, Drama, Fantasy',\n",
       "       'Action, Adventure, Biography', 'Biography, History, Thriller',\n",
       "       'Action, Family, Drama', 'Documentary, Drama, Sport',\n",
       "       'Thriller, Mystery', 'Musical, Drama, Comedy',\n",
       "       'Documentary, History, War', 'Adventure, Horror, Thriller',\n",
       "       'Action, Adventure, Horror', 'Action, Crime, War',\n",
       "       'Adventure, Musical, Romance', 'Action, Fantasy, Sci-Fi',\n",
       "       'Drama, Comedy, Action', 'Documentary, Sport',\n",
       "       'Documentary, Adventure, Music', 'Drama, Action, Family',\n",
       "       'Adventure, History, Thriller', 'Adventure, Horror, Romance',\n",
       "       'Adventure, Crime, Horror', 'Mystery, Musical, Romance',\n",
       "       'Action, Crime, History', 'Documentary, Musical',\n",
       "       'Adventure, Fantasy, Musical', 'Documentary, Family, History',\n",
       "       'Documentary, Drama, Family', 'Drama, Mystery, Sci-Fi',\n",
       "       'Animation, Drama, Musical', 'Drama, History, Mystery',\n",
       "       'Drama, Sport, Thriller', 'Action, Crime, Fantasy',\n",
       "       'Comedy, Musical, Mystery', 'Romance, Musical, Action',\n",
       "       'Musical, Drama, Fantasy', 'Animation, Family, History',\n",
       "       'Action, Drama, News', 'Romance, Musical, Comedy',\n",
       "       'Adventure, Fantasy, Horror', 'Adventure, History',\n",
       "       'Comedy, Drama, History', 'Mystery, Sci-Fi',\n",
       "       'Action, Thriller, War', 'Documentary, Drama, News',\n",
       "       'Documentary, Crime, Mystery', 'Adventure, Horror',\n",
       "       'Animation, Drama, Adventure', 'Crime, Horror, Romance',\n",
       "       'Documentary, Adventure, Drama', 'Documentary, Biography, History',\n",
       "       'Fantasy, Horror, Romance', 'Comedy, Fantasy, Musical',\n",
       "       'Crime, Musical, Thriller', 'Documentary, War',\n",
       "       'Action, Comedy, War', 'Crime, Drama, Sport',\n",
       "       'Musical, Adventure, Drama', 'Horror, Romance, Sci-Fi',\n",
       "       'Musical, Mystery, Romance', 'Romance, Musical, Drama',\n",
       "       'Adventure, Fantasy, Sci-Fi'], dtype=object)"
      ]
     },
     "execution_count": 6,
     "metadata": {},
     "output_type": "execute_result"
    }
   ],
   "source": [
    "df['Genre'].unique()"
   ]
  },
  {
   "cell_type": "code",
   "execution_count": 7,
   "id": "5d984106",
   "metadata": {},
   "outputs": [
    {
     "name": "stdout",
     "output_type": "stream",
     "text": [
      "['Sport', 'Crime', 'Thriller', 'Short', 'Romance', 'War', 'Sci-Fi', 'Documentary', 'Musical', 'History', 'Music', 'Horror', 'Animation', 'Action', 'Adventure', 'Western', 'Comedy', 'Fantasy', 'News', 'Drama', 'Family', 'Biography', 'Mystery', 'Reality-TV']\n"
     ]
    }
   ],
   "source": [
    " # Create a new DataFrame for the genre data\n",
    "genre_data = df[['Genre']].copy()\n",
    "\n",
    "# Drop rows with missing values in the 'Genre' column\n",
    "genre_data.dropna(subset=['Genre'], inplace=True)\n",
    "\n",
    "# Combine all genres into a single string, separated by commas\n",
    "all_genres = \",\".join(genre_data['Genre'].tolist())\n",
    "\n",
    "# Split the combined string to get a list of all genres\n",
    "genre_list = all_genres.split(\",\")\n",
    "\n",
    "# Use a set to collect unique genres after stripping spaces\n",
    "unique_genres = set(genre.strip() for genre in genre_list)\n",
    "\n",
    "# Convert the set of unique genres back to a list\n",
    "unique_genres = list(unique_genres)\n",
    "\n",
    "# Print the unique genre names\n",
    "print(unique_genres)"
   ]
  },
  {
   "cell_type": "code",
   "execution_count": 8,
   "id": "db11c04f",
   "metadata": {},
   "outputs": [
    {
     "name": "stdout",
     "output_type": "stream",
     "text": [
      "          Genre  Count  Mean Rating\n",
      "0         Drama   7243     5.998558\n",
      "1        Action   3543     5.430365\n",
      "2       Romance   2449     5.750533\n",
      "3        Comedy   2029     5.737290\n",
      "4      Thriller   1713     5.536187\n",
      "5         Crime   1322     5.727813\n",
      "6        Family    943     6.195173\n",
      "7       Musical    589     6.156627\n",
      "8     Adventure    541     5.816839\n",
      "9        Horror    524     4.785000\n",
      "10      Mystery    513     5.801892\n",
      "11      Fantasy    458     5.819512\n",
      "12  Documentary    383     7.613287\n",
      "13    Biography    208     6.819718\n",
      "14      History    207     6.804688\n",
      "15    Animation    125     5.956164\n",
      "16        Music     90     6.137705\n",
      "17        Sport     70     6.494118\n",
      "18       Sci-Fi     58     5.272973\n",
      "19          War     47     6.041176\n",
      "20         News      9     7.250000\n",
      "21      Western      5     5.566667\n",
      "22   Reality-TV      3          NaN\n",
      "23        Short      1          NaN\n"
     ]
    }
   ],
   "source": [
    " # Split the 'Genre' column by commas and create a list of genres for each row\n",
    "df['Genre'] = df['Genre'].str.split(', ')\n",
    "\n",
    "# Create a new DataFrame to store the expanded genre data\n",
    "genre_data = df.explode('Genre')\n",
    "\n",
    "# Calculate the count of movies for each genre\n",
    "genre_counts = genre_data['Genre'].value_counts().reset_index()\n",
    "genre_counts.columns = ['Genre', 'Count']\n",
    "\n",
    "\n",
    "\n",
    "# Calculate the mean rating for each genre\n",
    "genre_mean_ratings = genre_data.groupby('Genre')['Rating'].mean().reset_index()\n",
    "genre_mean_ratings.columns = ['Genre', 'Mean Rating']\n",
    "\n",
    "# Merge the counts and mean ratings into a single DataFrame\n",
    "genre_stats = pd.merge(genre_counts, genre_mean_ratings, on='Genre')\n",
    "\n",
    "# Display the resulting DataFrame\n",
    "print(genre_stats)"
   ]
  },
  {
   "cell_type": "code",
   "execution_count": 9,
   "id": "25d4b7f2",
   "metadata": {},
   "outputs": [],
   "source": [
    "df.dropna(subset=['Name', 'Year', 'Duration', 'Rating', 'Votes', 'Director', 'Actor 1', 'Actor 2', 'Actor 3'], inplace=True)"
   ]
  },
  {
   "cell_type": "code",
   "execution_count": 10,
   "id": "dda68db4",
   "metadata": {},
   "outputs": [
    {
     "data": {
      "text/plain": [
       "array(['(2019)', '(1997)', '(2005)', '(2012)', '(2014)', '(2004)',\n",
       "       '(2016)', '(1991)', '(2018)', '(2010)', '(1958)', '(2021)',\n",
       "       '(2017)', '(2009)', '(1993)', '(2002)', '(2008)', '(1994)',\n",
       "       '(2007)', '(2003)', '(1998)', '(1979)', '(1974)', '(2015)',\n",
       "       '(2006)', '(1981)', '(2020)', '(1985)', '(2013)', '(2011)',\n",
       "       '(1988)', '(1987)', '(1999)', '(1973)', '(1968)', '(1982)',\n",
       "       '(1977)', '(1950)', '(1969)', '(1948)', '(1990)', '(1989)',\n",
       "       '(2001)', '(2000)', '(1953)', '(1978)', '(1963)', '(1992)',\n",
       "       '(1976)', '(1984)', '(1986)', '(1966)', '(1975)', '(1980)',\n",
       "       '(1967)', '(1970)', '(1952)', '(1972)', '(1971)', '(1964)',\n",
       "       '(1954)', '(1962)', '(1957)', '(1965)', '(1996)', '(1995)',\n",
       "       '(1956)', '(1955)', '(1936)', '(1983)', '(1951)', '(1961)',\n",
       "       '(1959)', '(1949)', '(1960)', '(1946)', '(1940)', '(1945)',\n",
       "       '(1938)', '(1941)', '(1942)', '(1935)', '(1937)', '(1934)',\n",
       "       '(1947)', '(1931)', '(1943)', '(1933)', '(1944)', '(1932)',\n",
       "       '(1939)'], dtype=object)"
      ]
     },
     "execution_count": 10,
     "metadata": {},
     "output_type": "execute_result"
    }
   ],
   "source": [
    "df['Year'].unique()"
   ]
  },
  {
   "cell_type": "code",
   "execution_count": 11,
   "id": "d6c47ee1",
   "metadata": {},
   "outputs": [],
   "source": [
    "df['Year'] = df['Year'].str.replace(r'\\D', '', regex=True).astype(int)\n"
   ]
  },
  {
   "cell_type": "code",
   "execution_count": 12,
   "id": "e569bde9",
   "metadata": {},
   "outputs": [
    {
     "data": {
      "text/plain": [
       "array(['109 min', '110 min', '147 min', '142 min', '82 min', '116 min',\n",
       "       '96 min', '120 min', '161 min', '166 min', '102 min', '87 min',\n",
       "       '132 min', '105 min', '146 min', '168 min', '158 min', '126 min',\n",
       "       '94 min', '138 min', '124 min', '144 min', '157 min', '136 min',\n",
       "       '107 min', '113 min', '80 min', '122 min', '149 min', '148 min',\n",
       "       '130 min', '121 min', '188 min', '115 min', '103 min', '114 min',\n",
       "       '170 min', '100 min', '99 min', '140 min', '128 min', '93 min',\n",
       "       '125 min', '145 min', '75 min', '111 min', '134 min', '104 min',\n",
       "       '92 min', '137 min', '127 min', '119 min', '135 min', '90 min',\n",
       "       '150 min', '151 min', '95 min', '112 min', '143 min', '177 min',\n",
       "       '117 min', '123 min', '72 min', '154 min', '175 min', '153 min',\n",
       "       '78 min', '139 min', '133 min', '180 min', '46 min', '164 min',\n",
       "       '162 min', '171 min', '160 min', '152 min', '163 min', '165 min',\n",
       "       '141 min', '129 min', '156 min', '240 min', '172 min', '88 min',\n",
       "       '155 min', '167 min', '106 min', '193 min', '108 min', '195 min',\n",
       "       '174 min', '81 min', '178 min', '58 min', '184 min', '97 min',\n",
       "       '176 min', '169 min', '131 min', '77 min', '91 min', '86 min',\n",
       "       '84 min', '173 min', '118 min', '181 min', '300 min', '70 min',\n",
       "       '101 min', '79 min', '65 min', '48 min', '183 min', '159 min',\n",
       "       '83 min', '68 min', '89 min', '201 min', '64 min', '186 min',\n",
       "       '74 min', '85 min', '98 min', '49 min', '60 min', '207 min',\n",
       "       '76 min', '185 min', '59 min', '187 min', '216 min', '51 min',\n",
       "       '71 min', '45 min', '73 min', '57 min', '191 min', '321 min',\n",
       "       '199 min', '179 min', '47 min', '206 min', '63 min', '211 min',\n",
       "       '247 min', '56 min', '213 min', '210 min', '190 min', '223 min',\n",
       "       '189 min', '224 min', '202 min', '69 min', '255 min', '197 min',\n",
       "       '182 min', '66 min', '214 min', '208 min', '21 min', '200 min',\n",
       "       '192 min', '50 min', '54 min', '238 min', '62 min', '67 min',\n",
       "       '52 min', '204 min', '235 min', '217 min', '61 min', '250 min'],\n",
       "      dtype=object)"
      ]
     },
     "execution_count": 12,
     "metadata": {},
     "output_type": "execute_result"
    }
   ],
   "source": [
    "df['Duration'].unique()"
   ]
  },
  {
   "cell_type": "code",
   "execution_count": 13,
   "id": "519440b7",
   "metadata": {},
   "outputs": [],
   "source": [
    "df['Duration'] = df['Duration'].str.replace(r'\\D', '', regex=True).astype(float)"
   ]
  },
  {
   "cell_type": "code",
   "execution_count": 14,
   "id": "e0b33b48",
   "metadata": {},
   "outputs": [],
   "source": [
    "median_duration = df['Duration'].median()\n",
    "\n",
    "# Fill missing values in the 'Duration' column with the median value\n",
    "df['Duration'].fillna(median_duration, inplace=True)"
   ]
  },
  {
   "cell_type": "code",
   "execution_count": 15,
   "id": "38d1d925",
   "metadata": {},
   "outputs": [],
   "source": [
    "df['Votes'] = df['Votes'].str.replace(',', '', regex=True).astype(int)"
   ]
  },
  {
   "cell_type": "code",
   "execution_count": 16,
   "id": "d429fccc",
   "metadata": {},
   "outputs": [
    {
     "data": {
      "text/plain": [
       "Name         object\n",
       "Year          int32\n",
       "Duration    float64\n",
       "Genre        object\n",
       "Rating      float64\n",
       "Votes         int32\n",
       "Director     object\n",
       "Actor 1      object\n",
       "Actor 2      object\n",
       "Actor 3      object\n",
       "dtype: object"
      ]
     },
     "execution_count": 16,
     "metadata": {},
     "output_type": "execute_result"
    }
   ],
   "source": [
    "df.dtypes"
   ]
  },
  {
   "cell_type": "code",
   "execution_count": 17,
   "id": "4a3d56c6",
   "metadata": {},
   "outputs": [
    {
     "data": {
      "text/plain": [
       "Name         0\n",
       "Year         0\n",
       "Duration     0\n",
       "Genre       29\n",
       "Rating       0\n",
       "Votes        0\n",
       "Director     0\n",
       "Actor 1      0\n",
       "Actor 2      0\n",
       "Actor 3      0\n",
       "dtype: int64"
      ]
     },
     "execution_count": 17,
     "metadata": {},
     "output_type": "execute_result"
    }
   ],
   "source": [
    "df.isnull().sum()"
   ]
  },
  {
   "cell_type": "code",
   "execution_count": 18,
   "id": "2ff50335",
   "metadata": {},
   "outputs": [
    {
     "data": {
      "image/png": "[encoded data removed]",
      "text/plain": [
       "<Figure size 864x432 with 1 Axes>"
      ]
     },
     "metadata": {
      "needs_background": "light"
     },
     "output_type": "display_data"
    }
   ],
   "source": [
    "# Sort the DataFrame by count in descending order for better visualization\n",
    "genre_stats = genre_stats.sort_values(by='Count', ascending=False)\n",
    "\n",
    "# Create a bar plot\n",
    "plt.figure(figsize=(12, 6))\n",
    "plt.bar(genre_stats['Genre'], genre_stats['Count'])\n",
    "plt.xlabel('Genre')\n",
    "plt.ylabel('Count of Movies')\n",
    "plt.title('Count of Movies by Genre')\n",
    "plt.xticks(rotation=90)  # Rotate x-axis labels for better readability\n",
    "plt.show()"
   ]
  },
  {
   "cell_type": "code",
   "execution_count": 19,
   "id": "0b4b9504",
   "metadata": {},
   "outputs": [
    {
     "data": {
      "text/html": [
       "<div>\n",
       "<style scoped>\n",
       "    .dataframe tbody tr th:only-of-type {\n",
       "        vertical-align: middle;\n",
       "    }\n",
       "\n",
       "    .dataframe tbody tr th {\n",
       "        vertical-align: top;\n",
       "    }\n",
       "\n",
       "    .dataframe thead th {\n",
       "        text-align: right;\n",
       "    }\n",
       "</style>\n",
       "<table border=\"1\" class=\"dataframe\">\n",
       "  <thead>\n",
       "    <tr style=\"text-align: right;\">\n",
       "      <th></th>\n",
       "      <th>Name</th>\n",
       "      <th>Year</th>\n",
       "      <th>Duration</th>\n",
       "      <th>Genre</th>\n",
       "      <th>Rating</th>\n",
       "      <th>Votes</th>\n",
       "      <th>Director</th>\n",
       "      <th>Actor 1</th>\n",
       "      <th>Actor 2</th>\n",
       "      <th>Actor 3</th>\n",
       "    </tr>\n",
       "  </thead>\n",
       "  <tbody>\n",
       "    <tr>\n",
       "      <th>8339</th>\n",
       "      <td>Love Qubool Hai</td>\n",
       "      <td>2020</td>\n",
       "      <td>94.0</td>\n",
       "      <td>[Drama, Romance]</td>\n",
       "      <td>10.0</td>\n",
       "      <td>5</td>\n",
       "      <td>Saif Ali Sayeed</td>\n",
       "      <td>Ahaan Jha</td>\n",
       "      <td>Mahesh Narayan</td>\n",
       "      <td>Rajasree Rajakumari</td>\n",
       "    </tr>\n",
       "  </tbody>\n",
       "</table>\n",
       "</div>"
      ],
      "text/plain": [
       "                 Name  Year  Duration             Genre  Rating  Votes  \\\n",
       "8339  Love Qubool Hai  2020      94.0  [Drama, Romance]    10.0      5   \n",
       "\n",
       "             Director    Actor 1         Actor 2              Actor 3  \n",
       "8339  Saif Ali Sayeed  Ahaan Jha  Mahesh Narayan  Rajasree Rajakumari  "
      ]
     },
     "execution_count": 19,
     "metadata": {},
     "output_type": "execute_result"
    }
   ],
   "source": [
    "df.loc[df['Rating']==df['Rating'].max()]"
   ]
  },
  {
   "cell_type": "code",
   "execution_count": 20,
   "id": "1ad825df",
   "metadata": {},
   "outputs": [
    {
     "data": {
      "text/html": [
       "<div>\n",
       "<style scoped>\n",
       "    .dataframe tbody tr th:only-of-type {\n",
       "        vertical-align: middle;\n",
       "    }\n",
       "\n",
       "    .dataframe tbody tr th {\n",
       "        vertical-align: top;\n",
       "    }\n",
       "\n",
       "    .dataframe thead th {\n",
       "        text-align: right;\n",
       "    }\n",
       "</style>\n",
       "<table border=\"1\" class=\"dataframe\">\n",
       "  <thead>\n",
       "    <tr style=\"text-align: right;\">\n",
       "      <th></th>\n",
       "      <th>Name</th>\n",
       "      <th>Year</th>\n",
       "      <th>Duration</th>\n",
       "      <th>Genre</th>\n",
       "      <th>Rating</th>\n",
       "      <th>Votes</th>\n",
       "      <th>Director</th>\n",
       "      <th>Actor 1</th>\n",
       "      <th>Actor 2</th>\n",
       "      <th>Actor 3</th>\n",
       "    </tr>\n",
       "  </thead>\n",
       "  <tbody>\n",
       "    <tr>\n",
       "      <th>12171</th>\n",
       "      <td>Sadak 2</td>\n",
       "      <td>2020</td>\n",
       "      <td>133.0</td>\n",
       "      <td>[Action, Drama]</td>\n",
       "      <td>1.1</td>\n",
       "      <td>67785</td>\n",
       "      <td>Mahesh Bhatt</td>\n",
       "      <td>Alia Bhatt</td>\n",
       "      <td>Priyanka Bose</td>\n",
       "      <td>Sanjay Dutt</td>\n",
       "    </tr>\n",
       "  </tbody>\n",
       "</table>\n",
       "</div>"
      ],
      "text/plain": [
       "          Name  Year  Duration            Genre  Rating  Votes      Director  \\\n",
       "12171  Sadak 2  2020     133.0  [Action, Drama]     1.1  67785  Mahesh Bhatt   \n",
       "\n",
       "          Actor 1        Actor 2      Actor 3  \n",
       "12171  Alia Bhatt  Priyanka Bose  Sanjay Dutt  "
      ]
     },
     "execution_count": 20,
     "metadata": {},
     "output_type": "execute_result"
    }
   ],
   "source": [
    "df.loc[(df['Rating'].min()==df['Rating']) ]"
   ]
  },
  {
   "cell_type": "code",
   "execution_count": 21,
   "id": "f0422b63",
   "metadata": {},
   "outputs": [
    {
     "data": {
      "text/plain": [
       "Actor 1           Actor 2        Actor 3       \n",
       "Anil Kapoor       Sridevi        Anupam Kher       3\n",
       "Dibakar Banerjee  Karan Johar    Anurag Kashyap    3\n",
       "Dharmendra        Sunny Deol     Bobby Deol        3\n",
       "Nargis            Pradeep Kumar  Pran              2\n",
       "Sunny Deol        Anil Kapoor    Sridevi           2\n",
       "Devika Rani       Ashok Kumar    Kamta Prasad      2\n",
       "Dharmendra        Saira Banu     Feroz Khan        2\n",
       "Manoj Kumar       Hema Malini    Prem Nath         2\n",
       "Shashi Kapoor     Govinda        Neelam Kothari    2\n",
       "Rishi Kapoor      Zeba Bakhtiar  Ashwini Bhave     2\n",
       "dtype: int64"
      ]
     },
     "execution_count": 21,
     "metadata": {},
     "output_type": "execute_result"
    }
   ],
   "source": [
    "acts = df[['Actor 1', 'Actor 2', 'Actor 3']].value_counts().sort_values(ascending=False).head(10)\n",
    "acts"
   ]
  },
  {
   "cell_type": "code",
   "execution_count": 22,
   "id": "9895262d",
   "metadata": {},
   "outputs": [],
   "source": [
    "\n",
    "top_20_rated_movies_of_actor=df[(df['Rating']>=7)]['Actor 1'].head(20)"
   ]
  },
  {
   "cell_type": "code",
   "execution_count": 23,
   "id": "009de814",
   "metadata": {},
   "outputs": [
    {
     "data": {
      "text/plain": [
       "Actor 1\n",
       "Aamir Khan             8.4\n",
       "Amitabh Bachchan       7.4\n",
       "Anil Kapoor            7.2\n",
       "Dhruva Padmakumar      8.1\n",
       "Ehan Bhat              7.4\n",
       "Geeta Agrawal          7.3\n",
       "Guru Dutt              7.2\n",
       "Jennifer Kendal        7.5\n",
       "Jimmy Sheirgill        7.4\n",
       "Kalki Koechlin         7.5\n",
       "Madhavan               7.3\n",
       "Manoj Bajpayee         8.1\n",
       "Nachiket Patwardhan    7.7\n",
       "Naseeruddin Shah       7.8\n",
       "Raj Nidimoru           7.3\n",
       "Rajvvir Aroraa         7.3\n",
       "Rasika Dugal           7.0\n",
       "Sanjay Deyali          8.0\n",
       "Shabana Azmi           7.1\n",
       "Srishti Gautam         7.8\n",
       "Name: Rating, dtype: float64"
      ]
     },
     "execution_count": 23,
     "metadata": {},
     "output_type": "execute_result"
    }
   ],
   "source": [
    "top_20_actor=df.groupby(top_20_rated_movies_of_actor)['Rating'].mean()\n",
    "top_20_actor"
   ]
  },
  {
   "cell_type": "code",
   "execution_count": 24,
   "id": "a146c1d5",
   "metadata": {},
   "outputs": [
    {
     "data": {
      "image/png": "[encoded data removed]",
      "text/plain": [
       "<Figure size 432x288 with 1 Axes>"
      ]
     },
     "metadata": {
      "needs_background": "light"
     },
     "output_type": "display_data"
    }
   ],
   "source": [
    "plt.bar(top_20_actor.index,top_20_actor.values)\n",
    "plt.xlabel(\"Top 20 Actors\")\n",
    "plt.ylabel(\"Average Rating\")\n",
    "plt.title(\"Average Rating of Top 20 actors\")\n",
    "plt.xticks(rotation='vertical', fontsize=8)\n",
    "plt.show()"
   ]
  },
  {
   "cell_type": "code",
   "execution_count": 25,
   "id": "ba198c29",
   "metadata": {},
   "outputs": [],
   "source": [
    "\n",
    "top_20_rated_movies_of_director=df[(df['Rating']>=7)]['Director'].head(20)"
   ]
  },
  {
   "cell_type": "code",
   "execution_count": 26,
   "id": "ac6c0a1e",
   "metadata": {},
   "outputs": [
    {
     "data": {
      "text/plain": [
       "Director\n",
       "Amrit Sagar                   8.1\n",
       "Aparna Sen                    7.3\n",
       "Dhruv Sachdev                 8.0\n",
       "Gaurav Bakshi                 7.0\n",
       "Jayoo Patwardhan              7.7\n",
       "Konkona Sen Sharma            7.5\n",
       "Krishna D.K.                  7.3\n",
       "Nagesh Kukunoor               7.8\n",
       "Padmakumar Narasimhamurthy    8.1\n",
       "Pramod Chakravorty            7.2\n",
       "Praveen Damle                 7.3\n",
       "Prawaal Raman                 7.3\n",
       "Rajkumar Hirani               8.4\n",
       "Shoojit Sircar                7.4\n",
       "Suhaib Ilyasi                 7.8\n",
       "Umesh Shukla                  7.4\n",
       "Vidhu Vinod Chopra            7.2\n",
       "Vikram K. Kumar               7.3\n",
       "Vishwesh Krishnamoorthy       7.4\n",
       "Name: Rating, dtype: float64"
      ]
     },
     "execution_count": 26,
     "metadata": {},
     "output_type": "execute_result"
    }
   ],
   "source": [
    "df.groupby(top_20_rated_movies_of_director)['Rating'].mean()"
   ]
  },
  {
   "cell_type": "markdown",
   "id": "d0faa239",
   "metadata": {},
   "source": [
    "### Time series plot to visualize how movie rationg has changed over the year"
   ]
  },
  {
   "cell_type": "code",
   "execution_count": 27,
   "id": "7d553d2b",
   "metadata": {},
   "outputs": [
    {
     "data": {
      "image/png": "[encoded data removed]",
      "text/plain": [
       "<Figure size 720x432 with 1 Axes>"
      ]
     },
     "metadata": {
      "needs_background": "light"
     },
     "output_type": "display_data"
    }
   ],
   "source": [
    "\n",
    "df['Year'] = df['Year'].astype(int)\n",
    "df['Rating'] = df['Rating'].astype(float)\n",
    "\n",
    "# Group data by year and calculate the mean rating for each year\n",
    "ratings_by_year = df.groupby('Year')['Rating'].mean()\n",
    "\n",
    "# Create a time series plot for movie ratings over the years\n",
    "plt.figure(figsize=(10, 6))\n",
    "ratings_by_year.plot()\n",
    "plt.title('Movie Ratings Over the Years')\n",
    "plt.xlabel('Year')\n",
    "plt.ylabel('Average Rating')\n",
    "plt.show()"
   ]
  },
  {
   "cell_type": "code",
   "execution_count": 28,
   "id": "03c03559",
   "metadata": {},
   "outputs": [
    {
     "data": {
      "image/png": "[encoded data removed]",
      "text/plain": [
       "<Figure size 864x432 with 1 Axes>"
      ]
     },
     "metadata": {
      "needs_background": "light"
     },
     "output_type": "display_data"
    }
   ],
   "source": [
    "df['Year'] = df['Year'].astype(int)\n",
    "\n",
    "# Group data by year and calculate the count of movies for each year\n",
    "movies_by_year = df.groupby('Year').size()\n",
    "\n",
    "# Create a time series plot for the number of movies released over the years\n",
    "plt.figure(figsize=(12, 6))\n",
    "plt.plot(movies_by_year.index, movies_by_year.values)\n",
    "plt.title('Number of Movies Released Over the Years', fontsize = 15)\n",
    "plt.xlabel('Year', fontsize =14)\n",
    "plt.ylabel('Number of Movies', fontsize= 14)\n",
    "plt.show()\n"
   ]
  },
  {
   "cell_type": "code",
   "execution_count": 29,
   "id": "071e3399",
   "metadata": {},
   "outputs": [],
   "source": [
    "from sklearn.linear_model import LinearRegression\n",
    "from sklearn.ensemble import RandomForestRegressor\n",
    "\n",
    "from sklearn.model_selection import train_test_split, cross_val_score\n",
    "\n",
    "from sklearn.metrics import accuracy_score, mean_absolute_error, mean_squared_error, r2_score"
   ]
  },
  {
   "cell_type": "code",
   "execution_count": 30,
   "id": "90776c0a",
   "metadata": {},
   "outputs": [],
   "source": [
    "# data preprocessing\n",
    "datamodel = df[['Year', 'Votes', 'Duration', 'Director','Actor 1', 'Actor 2', 'Actor 3', 'Rating']]"
   ]
  },
  {
   "cell_type": "code",
   "execution_count": 31,
   "id": "94e6706c",
   "metadata": {},
   "outputs": [],
   "source": [
    "# feature Engineering\n",
    "director_mean_rating = datamodel.groupby('Director')['Rating'].transform('mean')\n",
    "datamodel['Director_encoded'] = director_mean_rating\n",
    "\n",
    "actor1_mean_rating = datamodel.groupby('Actor 1')['Rating'].transform('mean')\n",
    "datamodel['Actor1_encoded'] = actor1_mean_rating\n",
    "\n",
    "actor2_mean_rating = datamodel.groupby('Actor 2')['Rating'].transform('mean')\n",
    "datamodel['Actor2_encoded'] = actor2_mean_rating\n",
    "\n",
    "actor3_mean_rating = datamodel.groupby('Actor 3')['Rating'].transform('mean')\n",
    "datamodel['Actor3_encoded'] = actor3_mean_rating\n"
   ]
  },
  {
   "cell_type": "code",
   "execution_count": 32,
   "id": "a434b1c4",
   "metadata": {},
   "outputs": [],
   "source": [
    "#splitting data into trainning n testing \n",
    "X = datamodel[[ 'Year', 'Votes', 'Duration','Director_encoded','Actor1_encoded', 'Actor2_encoded', 'Actor3_encoded']]\n",
    "y = datamodel['Rating']\n",
    "\n",
    "X_train,X_test,y_train,y_test = train_test_split(X,y,test_size=0.3,random_state=24)"
   ]
  },
  {
   "cell_type": "code",
   "execution_count": 33,
   "id": "357576b6",
   "metadata": {},
   "outputs": [],
   "source": [
    "#Linear Regression\n",
    "lr = LinearRegression()\n",
    "lr.fit(X_train,y_train)\n",
    "lr_pred = lr.predict(X_test)\n",
    "\n",
    "#Random Forest\n",
    "rf = RandomForestRegressor()\n",
    "rf.fit(X_train,y_train)\n",
    "rf_pred = rf.predict(X_test)"
   ]
  },
  {
   "cell_type": "code",
   "execution_count": 34,
   "id": "88731c7e",
   "metadata": {},
   "outputs": [
    {
     "name": "stdout",
     "output_type": "stream",
     "text": [
      "Logistic Regression Model Performance: \n",
      "Mean squared error:  0.37761962958168305\n",
      "Mean absolute error:  0.4562760312995002\n",
      "R2 score:  0.8033009447842608\n",
      "\n",
      "Random Forest Regressor Model Performance: \n",
      "Mean squared error:  0.3140384727592267\n",
      "Mean absolute error:  0.3882349150556534\n",
      "R2 score:  0.8364198625967567\n"
     ]
    }
   ],
   "source": [
    "print('Logistic Regression Model Performance: ')\n",
    "print('Mean squared error: ',mean_squared_error(y_test, lr_pred))\n",
    "print('Mean absolute error: ',mean_absolute_error(y_test, lr_pred))\n",
    "print('R2 score: ',r2_score(y_test, lr_pred))\n",
    "print()\n",
    "\n",
    "print('Random Forest Regressor Model Performance: ')\n",
    "print('Mean squared error: ',mean_squared_error(y_test, rf_pred))\n",
    "print('Mean absolute error: ',mean_absolute_error(y_test, rf_pred))\n",
    "print('R2 score: ',r2_score(y_test, rf_pred))"
   ]
  },
  {
   "cell_type": "code",
   "execution_count": 35,
   "id": "c86bd815",
   "metadata": {},
   "outputs": [
    {
     "name": "stdout",
     "output_type": "stream",
     "text": [
      "Predicted Rating: 5.873999999999992\n"
     ]
    }
   ],
   "source": [
    "data = {'Year': [2016], 'Votes': [58], 'Duration': [121], 'Director_encoded': [5.8], 'Actor1_encoded': [5.9], 'Actor2_encoded': [5.9], 'Actor3_encoded': [5.900]}\n",
    "d = pd.DataFrame(data)\n",
    "\n",
    "predicted_rating = rf.predict(d)\n",
    "\n",
    "# Display the predicted rating\n",
    "print(\"Predicted Rating:\", predicted_rating[0])"
   ]
  },
  {
   "cell_type": "code",
   "execution_count": null,
   "id": "f0878db7",
   "metadata": {},
   "outputs": [],
   "source": []
  }
 ],
 "metadata": {
  "kernelspec": {
   "display_name": "Python 3 (ipykernel)",
   "language": "python",
   "name": "python3"
  },
  "language_info": {
   "codemirror_mode": {
    "name": "ipython",
    "version": 3
   },
   "file_extension": ".py",
   "mimetype": "text/x-python",
   "name": "python",
   "nbconvert_exporter": "python",
   "pygments_lexer": "ipython3",
   "version": "3.9.7"
  }
 },
 "nbformat": 4,
 "nbformat_minor": 5
}
